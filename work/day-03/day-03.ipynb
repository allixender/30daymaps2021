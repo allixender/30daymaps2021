{
 "cells": [
  {
   "cell_type": "code",
   "execution_count": null,
   "id": "61cbe629-149f-49bc-b953-53bb89fc8eff",
   "metadata": {},
   "outputs": [],
   "source": [
    "# https://inspire.geoportaal.ee/geoserver/SU_ruutkaart/wfs?service=WFS&version=2.0.0&request=GetCapabilities\n",
    "# https://metadata.geoportaal.ee/geonetwork/srv/est/catalog.search#/metadata/23e616e7-aad2-47b8-bdc8-60b6f56fdf16\n",
    "# application/json\n",
    "# SU_ruutkaart:SU.StatisticalGridCell\n",
    "# count / STARTINDEX=10\n",
    "# https://inspire.geoportaal.ee/geoserver/SU_ruutkaart/wfs?service=WFS&version=2.0.0&request=GetFeature&version=2.0.0&outputFormat=application/json&typenames=SU_ruutkaart:SU.StatisticalGridCell&count=10"
   ]
  },
  {
   "cell_type": "code",
   "execution_count": 11,
   "id": "457b7ed6-ffe0-42a7-9156-0b443b2e01a6",
   "metadata": {},
   "outputs": [],
   "source": [
    "import requests\n",
    "import json\n",
    "\n",
    "r = requests.get(\"https://inspire.geoportaal.ee/geoserver/SU_ruutkaart/wfs\",\n",
    "                 params={'service':'WFS',\n",
    "                         'request':'GetFeature',\n",
    "                         'version':'2.0.0',\n",
    "                         'outputFormat':'application/json',\n",
    "                         'typenames':'SU_ruutkaart:SU.StatisticalGridCell',\n",
    "                         'count':50000,\n",
    "                         'startindex':0} )"
   ]
  },
  {
   "cell_type": "code",
   "execution_count": 12,
   "id": "54cfb1d1-6c15-42fe-9b16-d853838192b8",
   "metadata": {},
   "outputs": [
    {
     "data": {
      "text/plain": [
       "200"
      ]
     },
     "execution_count": 12,
     "metadata": {},
     "output_type": "execute_result"
    }
   ],
   "source": [
    "r.status_code"
   ]
  },
  {
   "cell_type": "code",
   "execution_count": 13,
   "id": "180ffc3c-b150-45fd-8b3d-9a9f89213443",
   "metadata": {},
   "outputs": [],
   "source": [
    "data = r.json()"
   ]
  },
  {
   "cell_type": "code",
   "execution_count": 14,
   "id": "130e9eab-316f-4d5d-a4b3-89d77ab65685",
   "metadata": {},
   "outputs": [
    {
     "data": {
      "text/plain": [
       "45636"
      ]
     },
     "execution_count": 14,
     "metadata": {},
     "output_type": "execute_result"
    }
   ],
   "source": [
    "len ( data['features'] )\n",
    "    "
   ]
  },
  {
   "cell_type": "code",
   "execution_count": 15,
   "id": "902f8a11-bef9-419f-a606-0bd7115bb046",
   "metadata": {},
   "outputs": [
    {
     "data": {
      "text/plain": [
       "{'type': 'Feature',\n",
       " 'id': 'SU.StatisticalGridCell.1kmN3925E5032',\n",
       " 'geometry': {'type': 'Polygon',\n",
       "  'coordinates': [[[383452.4784, 6417726.1088],\n",
       "    [383655.7664, 6418705.4155],\n",
       "    [384636.0814, 6418508.5624],\n",
       "    [384432.8007, 6417529.2583],\n",
       "    [383452.4784, 6417726.1088]]]},\n",
       " 'geometry_name': 'geom',\n",
       " 'properties': {'gml_id': '1kmN3925E5032',\n",
       "  'gml_identifier': '1kmN3925E5032-ee.stat.su-stat-ruudustik_1km',\n",
       "  'gml_identifier_codespace': 'http://inspire.ec.europa.eu/ids',\n",
       "  'gml_metadataproperty_xlink_href': 'https://metadata.geoportaal.ee/geonetwork/srv/est/xml.metadata.get?uuid=stat_grid',\n",
       "  'gml_metadataproperty_xlink_title': 'Eesti statistiline ruutvõrk 1x1km',\n",
       "  'gml_original_coordinate_system': 'http://www.opengis.net/def/crs/EPSG/0/3035',\n",
       "  'gml_parent_property': 'featureMember',\n",
       "  'gml_description': 'Last update: 2021-03-10',\n",
       "  'code': 'EE_CRS_3035-RES_1000m-N3925000E5032000',\n",
       "  'grid_xlink_href': 'https://inspire.ec.europa.eu/codelist/VoidReasonValue/Unpopulated',\n",
       "  'grid_xlink_title': 'unpopulated',\n",
       "  'lowers_xlink_href': 'https://inspire.ec.europa.eu/codelist/VoidReasonValue/Unpopulated',\n",
       "  'lowers_xlink_title': 'Unpopulated',\n",
       "  'upper_xlink_href': 'https://inspire.ec.europa.eu/codelist/VoidReasonValue/Unpopulated',\n",
       "  'upper_xlink_title': 'Unpopulated',\n",
       "  'xml_ns_uri': 'http://inspire.ec.europa.eu/schemas/su-grid/4.0'}}"
      ]
     },
     "execution_count": 15,
     "metadata": {},
     "output_type": "execute_result"
    }
   ],
   "source": [
    "data['features'][0]"
   ]
  },
  {
   "cell_type": "code",
   "execution_count": 16,
   "id": "6ee5a9df-eda3-4a27-b5fd-2a4d17546a21",
   "metadata": {},
   "outputs": [],
   "source": [
    "# Serializing json \n",
    "json_object = json.dumps(data, indent = 4)\n",
    "  \n",
    "# Writing to sample.json\n",
    "with open(\"stats.geojson\", \"w\") as outfile:\n",
    "    outfile.write(json_object)"
   ]
  },
  {
   "cell_type": "code",
   "execution_count": 24,
   "id": "8b54eb28-a255-4536-9205-d6e024830b18",
   "metadata": {},
   "outputs": [],
   "source": [
    "import geopandas as gpd\n",
    "\n",
    "sdf = gpd.read_file(\"stats.geojson\", driver=\"GeoJSON\")"
   ]
  },
  {
   "cell_type": "code",
   "execution_count": 25,
   "id": "6a00558b-e808-468d-a372-40ed79503027",
   "metadata": {},
   "outputs": [],
   "source": [
    "sdf84 = sdf.to_crs(4326) # strange that the metadata indocates this data should be in 3035, but geopandas takes it as 3301 and correctly reprojects"
   ]
  },
  {
   "cell_type": "code",
   "execution_count": 26,
   "id": "e519e43e-03f1-4a10-aedb-086c8088a35c",
   "metadata": {},
   "outputs": [
    {
     "data": {
      "text/html": [
       "<div>\n",
       "<style scoped>\n",
       "    .dataframe tbody tr th:only-of-type {\n",
       "        vertical-align: middle;\n",
       "    }\n",
       "\n",
       "    .dataframe tbody tr th {\n",
       "        vertical-align: top;\n",
       "    }\n",
       "\n",
       "    .dataframe thead th {\n",
       "        text-align: right;\n",
       "    }\n",
       "</style>\n",
       "<table border=\"1\" class=\"dataframe\">\n",
       "  <thead>\n",
       "    <tr style=\"text-align: right;\">\n",
       "      <th></th>\n",
       "      <th>id</th>\n",
       "      <th>gml_id</th>\n",
       "      <th>gml_identifier</th>\n",
       "      <th>gml_identifier_codespace</th>\n",
       "      <th>gml_metadataproperty_xlink_href</th>\n",
       "      <th>gml_metadataproperty_xlink_title</th>\n",
       "      <th>gml_original_coordinate_system</th>\n",
       "      <th>gml_parent_property</th>\n",
       "      <th>gml_description</th>\n",
       "      <th>code</th>\n",
       "      <th>grid_xlink_href</th>\n",
       "      <th>grid_xlink_title</th>\n",
       "      <th>lowers_xlink_href</th>\n",
       "      <th>lowers_xlink_title</th>\n",
       "      <th>upper_xlink_href</th>\n",
       "      <th>upper_xlink_title</th>\n",
       "      <th>xml_ns_uri</th>\n",
       "      <th>geometry</th>\n",
       "    </tr>\n",
       "  </thead>\n",
       "  <tbody>\n",
       "    <tr>\n",
       "      <th>0</th>\n",
       "      <td>SU.StatisticalGridCell.1kmN3925E5032</td>\n",
       "      <td>1kmN3925E5032</td>\n",
       "      <td>1kmN3925E5032-ee.stat.su-stat-ruudustik_1km</td>\n",
       "      <td>http://inspire.ec.europa.eu/ids</td>\n",
       "      <td>https://metadata.geoportaal.ee/geonetwork/srv/...</td>\n",
       "      <td>Eesti statistiline ruutvõrk 1x1km</td>\n",
       "      <td>http://www.opengis.net/def/crs/EPSG/0/3035</td>\n",
       "      <td>featureMember</td>\n",
       "      <td>Last update: 2021-03-10</td>\n",
       "      <td>EE_CRS_3035-RES_1000m-N3925000E5032000</td>\n",
       "      <td>https://inspire.ec.europa.eu/codelist/VoidReas...</td>\n",
       "      <td>unpopulated</td>\n",
       "      <td>https://inspire.ec.europa.eu/codelist/VoidReas...</td>\n",
       "      <td>Unpopulated</td>\n",
       "      <td>https://inspire.ec.europa.eu/codelist/VoidReas...</td>\n",
       "      <td>Unpopulated</td>\n",
       "      <td>http://inspire.ec.europa.eu/schemas/su-grid/4.0</td>\n",
       "      <td>POLYGON ((22.03507 57.88583, 22.03802 57.89467...</td>\n",
       "    </tr>\n",
       "    <tr>\n",
       "      <th>1</th>\n",
       "      <td>SU.StatisticalGridCell.1kmN3926E5031</td>\n",
       "      <td>1kmN3926E5031</td>\n",
       "      <td>1kmN3926E5031-ee.stat.su-stat-ruudustik_1km</td>\n",
       "      <td>http://inspire.ec.europa.eu/ids</td>\n",
       "      <td>https://metadata.geoportaal.ee/geonetwork/srv/...</td>\n",
       "      <td>Eesti statistiline ruutvõrk 1x1km</td>\n",
       "      <td>http://www.opengis.net/def/crs/EPSG/0/3035</td>\n",
       "      <td>featureMember</td>\n",
       "      <td>Last update: 2021-03-10</td>\n",
       "      <td>EE_CRS_3035-RES_1000m-N3926000E5031000</td>\n",
       "      <td>https://inspire.ec.europa.eu/codelist/VoidReas...</td>\n",
       "      <td>unpopulated</td>\n",
       "      <td>https://inspire.ec.europa.eu/codelist/VoidReas...</td>\n",
       "      <td>Unpopulated</td>\n",
       "      <td>https://inspire.ec.europa.eu/codelist/VoidReas...</td>\n",
       "      <td>Unpopulated</td>\n",
       "      <td>http://inspire.ec.europa.eu/schemas/su-grid/4.0</td>\n",
       "      <td>POLYGON ((22.02140 57.89618, 22.02434 57.90502...</td>\n",
       "    </tr>\n",
       "  </tbody>\n",
       "</table>\n",
       "</div>"
      ],
      "text/plain": [
       "                                     id         gml_id  \\\n",
       "0  SU.StatisticalGridCell.1kmN3925E5032  1kmN3925E5032   \n",
       "1  SU.StatisticalGridCell.1kmN3926E5031  1kmN3926E5031   \n",
       "\n",
       "                                gml_identifier  \\\n",
       "0  1kmN3925E5032-ee.stat.su-stat-ruudustik_1km   \n",
       "1  1kmN3926E5031-ee.stat.su-stat-ruudustik_1km   \n",
       "\n",
       "          gml_identifier_codespace  \\\n",
       "0  http://inspire.ec.europa.eu/ids   \n",
       "1  http://inspire.ec.europa.eu/ids   \n",
       "\n",
       "                     gml_metadataproperty_xlink_href  \\\n",
       "0  https://metadata.geoportaal.ee/geonetwork/srv/...   \n",
       "1  https://metadata.geoportaal.ee/geonetwork/srv/...   \n",
       "\n",
       "    gml_metadataproperty_xlink_title  \\\n",
       "0  Eesti statistiline ruutvõrk 1x1km   \n",
       "1  Eesti statistiline ruutvõrk 1x1km   \n",
       "\n",
       "               gml_original_coordinate_system gml_parent_property  \\\n",
       "0  http://www.opengis.net/def/crs/EPSG/0/3035       featureMember   \n",
       "1  http://www.opengis.net/def/crs/EPSG/0/3035       featureMember   \n",
       "\n",
       "           gml_description                                    code  \\\n",
       "0  Last update: 2021-03-10  EE_CRS_3035-RES_1000m-N3925000E5032000   \n",
       "1  Last update: 2021-03-10  EE_CRS_3035-RES_1000m-N3926000E5031000   \n",
       "\n",
       "                                     grid_xlink_href grid_xlink_title  \\\n",
       "0  https://inspire.ec.europa.eu/codelist/VoidReas...      unpopulated   \n",
       "1  https://inspire.ec.europa.eu/codelist/VoidReas...      unpopulated   \n",
       "\n",
       "                                   lowers_xlink_href lowers_xlink_title  \\\n",
       "0  https://inspire.ec.europa.eu/codelist/VoidReas...        Unpopulated   \n",
       "1  https://inspire.ec.europa.eu/codelist/VoidReas...        Unpopulated   \n",
       "\n",
       "                                    upper_xlink_href upper_xlink_title  \\\n",
       "0  https://inspire.ec.europa.eu/codelist/VoidReas...       Unpopulated   \n",
       "1  https://inspire.ec.europa.eu/codelist/VoidReas...       Unpopulated   \n",
       "\n",
       "                                        xml_ns_uri  \\\n",
       "0  http://inspire.ec.europa.eu/schemas/su-grid/4.0   \n",
       "1  http://inspire.ec.europa.eu/schemas/su-grid/4.0   \n",
       "\n",
       "                                            geometry  \n",
       "0  POLYGON ((22.03507 57.88583, 22.03802 57.89467...  \n",
       "1  POLYGON ((22.02140 57.89618, 22.02434 57.90502...  "
      ]
     },
     "execution_count": 26,
     "metadata": {},
     "output_type": "execute_result"
    }
   ],
   "source": [
    "sdf84.head(2)"
   ]
  },
  {
   "cell_type": "code",
   "execution_count": 50,
   "id": "f19df973-c5cf-49d7-88c8-a3414defe136",
   "metadata": {},
   "outputs": [],
   "source": [
    "sdf84 = sdf84[['gml_id', 'geometry']].rename(columns={'gml_id':'name'})"
   ]
  },
  {
   "cell_type": "code",
   "execution_count": 31,
   "id": "366ddcf9-28e3-4710-a3a5-2ae7eca37fb4",
   "metadata": {},
   "outputs": [],
   "source": [
    "import os\n",
    "\n",
    "os.remove(\"stats.geojson\")"
   ]
  },
  {
   "cell_type": "code",
   "execution_count": 51,
   "id": "4895d3ec-7ce3-473a-a8be-4972e921c073",
   "metadata": {},
   "outputs": [],
   "source": [
    "sdf84.to_file(\"stats84.json\", driver=\"GeoJSON\")"
   ]
  },
  {
   "cell_type": "code",
   "execution_count": 59,
   "id": "0a9374d3-e7b3-4720-a99c-6ca51e75b861",
   "metadata": {},
   "outputs": [],
   "source": [
    "import pydeck as pdk\n",
    "\n",
    "\n",
    "DATA_URL = \"https://allixender.github.io/30daymaps2021/maps/day-03/stats84.json\"\n",
    "\n",
    "INITIAL_VIEW_STATE = pdk.ViewState(latitude=58.37, longitude=26.72, zoom=12, bearing=15, pitch=25,\n",
    "                                  # min_zoom=6, max_zoom=14\n",
    "                                  )\n",
    "\n",
    "geojson = pdk.Layer(\n",
    "    \"GeoJsonLayer\",\n",
    "    DATA_URL,\n",
    "    opacity=0.1,\n",
    "    stroked=True,\n",
    "    pickable=True,\n",
    "    filled=True,\n",
    "    # extruded=False,\n",
    "    get_fill_color=\"[0, 220, 255]\",\n",
    "    get_line_color=\"[255, 255, 255]\",\n",
    "    line_width_scale=7,\n",
    "    line_width_min_pixels=1,\n",
    "    get_line_width=3,\n",
    "    get_elevation=10\n",
    ")\n",
    "\n",
    "\n",
    "r = pdk.Deck(layers=[geojson], initial_view_state=INITIAL_VIEW_STATE, map_style=\"dark\")"
   ]
  },
  {
   "cell_type": "code",
   "execution_count": 60,
   "id": "af355f76-2eda-42c2-82dd-7310ec6d23b5",
   "metadata": {},
   "outputs": [
    {
     "data": {
      "text/html": [
       "\n",
       "        <iframe\n",
       "            width=\"100%\"\n",
       "            height=500\n",
       "            frameborder=\"0\"\n",
       "            srcdoc=\"&lt;!DOCTYPE html&gt;\n",
       "&lt;html&gt;\n",
       "  &lt;head&gt;\n",
       "    &lt;meta http-equiv=&quot;content-type&quot; content=&quot;text/html; charset=UTF-8&quot; /&gt;\n",
       "    &lt;title&gt;pydeck&lt;/title&gt;\n",
       "        &lt;script src=&quot;https://api.tiles.mapbox.com/mapbox-gl-js/v1.13.0/mapbox-gl.js&quot;&gt;&lt;/script&gt;\n",
       "        &lt;link rel=&quot;stylesheet&quot; href=&quot;https://maxcdn.bootstrapcdn.com/bootstrap/3.2.0/css/bootstrap-theme.min.css&quot; /&gt;\n",
       "    &lt;link rel=&quot;stylesheet&quot; href=&quot;https://maxcdn.bootstrapcdn.com/font-awesome/4.6.3/css/font-awesome.min.css&quot; /&gt;\n",
       "    &lt;script src=&#x27;https://cdn.jsdelivr.net/npm/@deck.gl/jupyter-widget@~8.5.*/dist/index.js&#x27;&gt;&lt;/script&gt;\n",
       "    &lt;style&gt;\n",
       "    body {\n",
       "  margin: 0;\n",
       "  padding: 0;\n",
       "  overflow: hidden;\n",
       "}\n",
       "\n",
       "#deck-map-container {\n",
       "  width: 100%;\n",
       "  height: 100%;\n",
       "  background-color: black;\n",
       "}\n",
       "\n",
       "#map {\n",
       "  pointer-events: none;\n",
       "  height: 100%;\n",
       "  width: 100%;\n",
       "  position: absolute;\n",
       "  z-index: 1;\n",
       "}\n",
       "\n",
       "#deckgl-overlay {\n",
       "  z-index: 2;\n",
       "  background: none;\n",
       "}\n",
       "\n",
       "#deck-map-wrapper {\n",
       "  width: 100%;\n",
       "  height: 100%;\n",
       "}\n",
       "\n",
       "#deck-container {\n",
       "  width: 100vw;\n",
       "  height: 100vh;\n",
       "}\n",
       "    &lt;/style&gt;\n",
       "  &lt;/head&gt;\n",
       "  &lt;body&gt;\n",
       "    &lt;div id=&quot;deck-container&quot;&gt;\n",
       "    &lt;/div&gt;\n",
       "  &lt;/body&gt;\n",
       "  &lt;script&gt;\n",
       "    const jsonInput = {&quot;initialViewState&quot;: {&quot;bearing&quot;: 15, &quot;latitude&quot;: 58.37, &quot;longitude&quot;: 26.72, &quot;pitch&quot;: 25, &quot;zoom&quot;: 12}, &quot;layers&quot;: [{&quot;@@type&quot;: &quot;GeoJsonLayer&quot;, &quot;data&quot;: &quot;https://allixender.github.io/30daymaps2021/maps/day-03/stats84.json&quot;, &quot;filled&quot;: true, &quot;getElevation&quot;: 10, &quot;getFillColor&quot;: &quot;@@=[0, 220, 255]&quot;, &quot;getLineColor&quot;: &quot;@@=[255, 255, 255]&quot;, &quot;getLineWidth&quot;: 3, &quot;id&quot;: &quot;1f92556c-f569-47bf-82bc-b044d72efb5a&quot;, &quot;lineWidthMinPixels&quot;: 1, &quot;lineWidthScale&quot;: 7, &quot;opacity&quot;: 0.1, &quot;pickable&quot;: true, &quot;stroked&quot;: true}], &quot;mapProvider&quot;: &quot;carto&quot;, &quot;mapStyle&quot;: &quot;https://basemaps.cartocdn.com/gl/dark-matter-gl-style/style.json&quot;, &quot;views&quot;: [{&quot;@@type&quot;: &quot;MapView&quot;, &quot;controller&quot;: true}]};\n",
       "    const tooltip = true;\n",
       "    const customLibraries = null;\n",
       "\n",
       "    const deckInstance = createDeck({\n",
       "                  container: document.getElementById(&#x27;deck-container&#x27;),\n",
       "      jsonInput,\n",
       "      tooltip,\n",
       "      customLibraries\n",
       "    });\n",
       "\n",
       "  &lt;/script&gt;\n",
       "&lt;/html&gt;\"\n",
       "        ></iframe>\n",
       "    "
      ],
      "text/plain": [
       "<IPython.core.display.HTML object>"
      ]
     },
     "execution_count": 60,
     "metadata": {},
     "output_type": "execute_result"
    }
   ],
   "source": [
    "r.to_html(\"json_layer.html\")"
   ]
  },
  {
   "cell_type": "code",
   "execution_count": null,
   "id": "d45a56c4-4cad-45cc-958c-53b75cc7baf1",
   "metadata": {},
   "outputs": [],
   "source": []
  }
 ],
 "metadata": {
  "kernelspec": {
   "display_name": "geopy2021a",
   "language": "python",
   "name": "geopy2021a"
  },
  "language_info": {
   "codemirror_mode": {
    "name": "ipython",
    "version": 3
   },
   "file_extension": ".py",
   "mimetype": "text/x-python",
   "name": "python",
   "nbconvert_exporter": "python",
   "pygments_lexer": "ipython3",
   "version": "3.8.12"
  }
 },
 "nbformat": 4,
 "nbformat_minor": 5
}
